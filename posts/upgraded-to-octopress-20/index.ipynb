{
 "cells": [
  {
   "cell_type": "markdown",
   "metadata": {},
   "source": [
    "As\n",
    "[recently announced on the Changelog](http://thechangelog.com/post/8230553977/octopress-a-blogging-framework-for-hackers) version 2.0 of\n",
    "[Octopress](http://octopress.org/) has been released. I have upgraded -- which took longer than I expected -- but\n",
    "it all seems to be working now."
   ]
  }
 ],
 "metadata": {
  "kernelspec": {
   "display_name": "Python 3",
   "language": "python",
   "name": "python3"
  },
  "language_info": {
   "codemirror_mode": {
    "name": "ipython",
    "version": 3
   },
   "file_extension": ".py",
   "mimetype": "text/x-python",
   "name": "python",
   "nbconvert_exporter": "python",
   "pygments_lexer": "ipython3",
   "version": "3.6.3"
  },
  "nikola": {
   "category": "",
   "date": "2011-08-16 20:19:00 UTC",
   "description": "",
   "link": "",
   "slug": "upgraded-to-octopress-20",
   "tags": "",
   "title": "Upgraded to Octopress 2.0",
   "type": "text"
  }
 },
 "nbformat": 4,
 "nbformat_minor": 2
}
