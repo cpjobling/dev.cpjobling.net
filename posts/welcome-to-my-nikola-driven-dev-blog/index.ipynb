{
 "cells": [
  {
   "cell_type": "markdown",
   "metadata": {},
   "source": [
    "# Welcome to my Nikola-driven dev blog\n",
    "\n",
    "I am building this blog following the instructions given by [Jaakko Luttinen](http://www.jaakkoluttinen.fi/blog/how-to-blog-with-jupyter-ipython-notebook-and-nikola/). I am using the static site generator [Nikola](https://getnikola.com/) because it supports jupyter notebooks as well as markdown and restructured text (RST) formatters.\n",
    "\n",
    "The blog is hosted using GitHub pages at [cpjobling.github.io/dev.cpjobling.net](https://cpjobling.github.io/dev.cpjobling.net]) as well as on Reclaim Hosting at [dev.cpjobling.net](https://dev.cpjobling.net)."
   ]
  }
 ],
 "metadata": {
  "kernelspec": {
   "display_name": "Python 3",
   "language": "python",
   "name": "python3"
  },
  "language_info": {
   "codemirror_mode": {
    "name": "ipython",
    "version": 3
   },
   "file_extension": ".py",
   "mimetype": "text/x-python",
   "name": "python",
   "nbconvert_exporter": "python",
   "pygments_lexer": "ipython3",
   "version": "3.6.3"
  },
  "nikola": {
   "category": "",
   "date": "2018-01-04 17:15:28 UTC",
   "description": "",
   "link": "",
   "slug": "welcome-to-my-nikola-driven-dev-blog",
   "tags": "",
   "title": "Welcome to my Nikola-driven Dev Blog",
   "type": "text"
  }
 },
 "nbformat": 4,
 "nbformat_minor": 2
}
