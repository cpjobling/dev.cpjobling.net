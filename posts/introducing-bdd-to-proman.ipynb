{
 "cells": [
  {
   "cell_type": "markdown",
   "metadata": {},
   "source": [
    "Behaviour Driven Development is well known in the Rails development community and I've decided to use it in my re-write of Proman. Following the instructions in Chapter 20 of the 13th beta of [http://www.pragprog.com/titles/achbd/the-rspec-book](The RSpec Book), I installed the necessary gems (version numbers are the values at time of installation):\n",
    "```shell\n",
    "sudo gem install rspec --version 1.3.0\n",
    "sudo gem install rspec-rails --version 1.3.2\n",
    "sudo gem install cucumber --version 0.6.3\n",
    "sudo gem install cucumber-rails --version 0.3.0\n",
    "sudo gem install database_cleaner --version 0.5.0\n",
    "sudo gem install webrat --version 0.7.0\n",
    "sudo gem install selenium-client --version 1.2.18\n",
    "```\n",
    "\n",
    "I then installed _rspec_ and _cucumber_ in my new Proman 3 project:\n",
    "\n",
    "```shell\n",
    "$ cd ~/dev/Proman-3\n",
    "$ mkdir lib\n",
    "$ mkdir tasks\n",
    "$ ./script/generate rspec\n",
    "\n",
    "Configuring rspec and rspec-rails gems in config/environments/test.rb ...\n",
    "\n",
    "  exists  lib/tasks\n",
    "  create  lib/tasks/rspec.rake\n",
    "  create  script/autospec\n",
    "  create  script/spec\n",
    "  create  spec\n",
    "  create  spec/rcov.opts\n",
    "  create  spec/spec.opts\n",
    "  create  spec/spec_helper.rb\n",
    "\t\n",
    "$ ./script/generate cucumber --rspec --webrat\n",
    "\t/usr/local/lib/ruby/gems/1.8/gems/rails-2.3.5/lib/rails/gem_dependency.rb:119:Warning: Gem::Dependency#version_requirements is deprecated and will be removed on or after August 2010.  Use #requirement\n",
    "\t       force  config/database.yml\n",
    "\t      create  config/cucumber.yml\n",
    "\t      create  config/environments/cucumber.rb\n",
    "\t      create  script/cucumber\n",
    "\t      create  features/step_definitions\n",
    "\t      create  features/step_definitions/web_steps.rb\n",
    "\t      create  features/support\n",
    "\t      create  features/support/paths.rb\n",
    "\t      create  features/support/env.rb\n",
    "\t      exists  lib/tasks\n",
    "\t      create  lib/tasks/cucumber.rake\n",
    "```\n",
    "\n",
    "I committed the changes and created a tag _rspeced_."
   ]
  }
 ],
 "metadata": {
  "kernelspec": {
   "display_name": "Python 3",
   "language": "python",
   "name": "python3"
  },
  "language_info": {
   "codemirror_mode": {
    "name": "ipython",
    "version": 3
   },
   "file_extension": ".py",
   "mimetype": "text/x-python",
   "name": "python",
   "nbconvert_exporter": "python",
   "pygments_lexer": "ipython3",
   "version": "3.6.3"
  },
  "nikola": {
   "category": "",
   "date": "2010-03-26",
   "description": "",
   "link": "",
   "slug": "introducing-bdd-to-proman",
   "tags": "",
   "title": "Introducing BDD to Proman",
   "type": "text"
  }
 },
 "nbformat": 4,
 "nbformat_minor": 2
}
