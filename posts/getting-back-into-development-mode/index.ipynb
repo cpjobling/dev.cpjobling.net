{
 "cells": [
  {
   "cell_type": "markdown",
   "metadata": {},
   "source": [
    "It's been a while (actually over a year) since I installed Octopress as a development log. I've gone back to it. After updating to the latest version and correcting some bugs that seem to have been introduced since I last used it.\n",
    "\n",
    "*Crispy Development* is all in place now and is updating correctly to its new home at [dev.cpjobling.org.uk](http://dev.cpjobling.org.uk) and also to my GitHub homepage at [cpjobling.github.com](http://cpjobling.github.com).\n",
    "\n",
    "For my reference, the deployment recipe is:\n",
    "\n",
    "```\n",
    "$ cd ~/dev/dev.cpjobling.org.uk\n",
    "$ rake generate deploy\n",
    "$ rake deploy_github\n",
    "```"
   ]
  }
 ],
 "metadata": {
  "kernelspec": {
   "display_name": "Python 3",
   "language": "python",
   "name": "python3"
  },
  "language_info": {
   "codemirror_mode": {
    "name": "ipython",
    "version": 3
   },
   "file_extension": ".py",
   "mimetype": "text/x-python",
   "name": "python",
   "nbconvert_exporter": "python",
   "pygments_lexer": "ipython3",
   "version": "3.6.3"
  },
  "nikola": {
   "category": "blog",
   "date": "2011-03-31",
   "description": "",
   "link": "",
   "slug": "getting-back-into-development-mode",
   "tags": "blog",
   "title": "Getting back into development mode",
   "type": "text"
  }
 },
 "nbformat": 4,
 "nbformat_minor": 2
}
