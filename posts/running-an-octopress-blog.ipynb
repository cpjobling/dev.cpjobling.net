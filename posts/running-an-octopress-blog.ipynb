{
 "cells": [
  {
   "cell_type": "markdown",
   "metadata": {},
   "source": [
    "Inspired by [episode 0.1.7 of The Changelog podcast](http://changelogshow.com/105/3197-episode-0-1-7-open-source-publishing-with-geoffrey-grosenbach-brandon-mathis-and-tim-caswell), I have cloned and configured an [Octopress blog](http://github.com/imathis/octopress) for recording my software development efforts. You will find a copy of this blog at [dev.cpjobling.org.uk](http://dev.cpjobling.org.uk) and also on my GitHub page [cpjobling.github.org](http://cpjobling.github.org). And if it proves useful, Octopress may also replace the Proman development blog [Proman, man](http://promanman.blogspot.com/).\n",
    "\n",
    "Out of the box, it provides links to twitter and delicious and can be configured to use disqus, google custom search and google analytics.\n",
    "\n",
    "As well as providing an interesting approach to blogging, Octopress, by using [Markdown](http://daringfireball.net/projects/markdown/), [Compass](http://compass-style.org/), [Haml](http://haml-lang.com/) and [Sass](http://sass-lang.com/), also provides me with a useful sandpit for trying out these technologies."
   ]
  }
 ],
 "metadata": {
  "kernelspec": {
   "display_name": "Python 3",
   "language": "python",
   "name": "python3"
  },
  "language_info": {
   "codemirror_mode": {
    "name": "ipython",
    "version": 3
   },
   "file_extension": ".py",
   "mimetype": "text/x-python",
   "name": "python",
   "nbconvert_exporter": "python",
   "pygments_lexer": "ipython3",
   "version": "3.6.3"
  },
  "nikola": {
   "category": "",
   "date": "2010-03-14",
   "description": "",
   "link": "",
   "slug": "running-an-octopress-blog",
   "tags": "",
   "title": "Running an Octopress Blog",
   "type": "text"
  }
 },
 "nbformat": 4,
 "nbformat_minor": 2
}
