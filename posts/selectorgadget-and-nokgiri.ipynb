{
 "cells": [
  {
   "cell_type": "markdown",
   "metadata": {},
   "source": [
    "Just watched [Railscast Episode 190](http://railscasts.com/episodes/190-screen-scraping-with-nokogiri) in which Ryan Bates demonstrated the use of the [Nokogiri Gem](http://nokogiri.org/) for a screen scraping application. As part of the episode, Ryan also demonstrated the use of [SelectorGadget](http://www.selectorgadget.com/), a browser bookmarklet for exploring CSS styles on a page which is useful in Nokogiri for identifying CSS selectors to use to grab a particular HTML element (or group of elements). I had seen SelectorGadget recommended as a [learning tool for jQuery as well](http://www.technologybo.com/learn-jquery-with-firebug-jquerify-and-selectorgadget-3285.html), and Ryan's screencast was a useful reminder.</p>\n",
    "\n",
    "Incidently, Nokogiri is used by the [Rspec](http://rspec.info/rails/) and [Cucumber](http://rspec.info/rails/) testing tools for Rails view testing."
   ]
  }
 ],
 "metadata": {
  "kernelspec": {
   "display_name": "Python 3",
   "language": "python",
   "name": "python3"
  },
  "language_info": {
   "codemirror_mode": {
    "name": "ipython",
    "version": 3
   },
   "file_extension": ".py",
   "mimetype": "text/x-python",
   "name": "python",
   "nbconvert_exporter": "python",
   "pygments_lexer": "ipython3",
   "version": "3.6.3"
  },
  "nikola": {
   "category": "",
   "date": "2011-04-05 10:37:00 UTC",
   "description": "",
   "link": "",
   "slug": "selectorgadget-and-nokgiri",
   "tags": "",
   "title": "SelectorGadget and Nokgiri",
   "type": "text"
  }
 },
 "nbformat": 4,
 "nbformat_minor": 2
}
