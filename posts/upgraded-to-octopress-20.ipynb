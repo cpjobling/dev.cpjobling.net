{
 "cells": [
  {
   "cell_type": "markdown",
   "metadata": {},
   "source": [
    "Write your post here."
   ]
  }
 ],
 "metadata": {
  "kernelspec": {
   "display_name": "Python 3",
   "env": {},
   "language": "python",
   "name": "python3"
  },
  "nikola": {
   "category": "",
   "date": "2011-08-16 20:19:00 UTC",
   "description": "",
   "link": "",
   "slug": "upgraded-to-octopress-20",
   "tags": "",
   "title": "Upgraded to Octopress 2.0",
   "type": "text"
  }
 },
 "nbformat": 4,
 "nbformat_minor": 2
}
