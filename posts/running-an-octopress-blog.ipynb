{
 "cells": [
  {
   "cell_type": "markdown",
   "metadata": {},
   "source": [
    "Write your post here."
   ]
  }
 ],
 "metadata": {
  "kernelspec": {
   "display_name": "Python 3",
   "env": {},
   "language": "python",
   "name": "python3"
  },
  "nikola": {
   "category": "",
   "date": "2010-03-14",
   "description": "",
   "link": "",
   "slug": "running-an-octopress-blog",
   "tags": "",
   "title": "Running an Octopress Blog",
   "type": "text"
  }
 },
 "nbformat": 4,
 "nbformat_minor": 2
}
